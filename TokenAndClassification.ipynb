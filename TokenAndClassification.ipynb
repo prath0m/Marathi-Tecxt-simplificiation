{
  "nbformat": 4,
  "nbformat_minor": 0,
  "metadata": {
    "colab": {
      "provenance": []
    },
    "kernelspec": {
      "name": "python3",
      "display_name": "Python 3"
    },
    "language_info": {
      "name": "python"
    }
  },
  "cells": [
    {
      "cell_type": "code",
      "execution_count": null,
      "metadata": {
        "colab": {
          "base_uri": "https://localhost:8080/"
        },
        "id": "clofns7APgV3",
        "outputId": "f947a1d8-0e0c-49b7-d5da-c5d2554a45c1"
      },
      "outputs": [
        {
          "output_type": "stream",
          "name": "stdout",
          "text": [
            "['बाजीप्रभू', 'देशपांडे', 'यांनी', 'पावनखिंडीत', 'मरण', 'स्वीकारून', 'शिवरायांच्या', 'स्वराज्याला', 'वाचवले', '.']\n"
          ]
        }
      ],
      "source": [
        "import nltk\n",
        "from nltk.tokenize import word_tokenize\n",
        "\n",
        "# nltk.download('punkt')\n",
        "sentence = \"बाजीप्रभू देशपांडे यांनी पावनखिंडीत मरण स्वीकारून शिवरायांच्या स्वराज्याला वाचवले.\"\n",
        "tokens = word_tokenize(sentence, language='english')\n",
        "print(tokens)"
      ]
    },
    {
      "cell_type": "code",
      "source": [
        "import nltk\n",
        "from nltk.tokenize import word_tokenize\n",
        "\n",
        "simple_words = {\n",
        "    \"यांनी\": 10000, \"पावनखिंडीत\": 2000, \"मरण\": 3000, \"स्वीकाऱून\": 1500,\n",
        "    \"शिवरायांच्या\": 1000, \"स्वराज्याला\": 800, \"वाचवले\": 1200\n",
        "}\n",
        "\n",
        "frequency_threshold = 1000  # Words with frequency > 1000 are considered simple\n",
        "\n",
        "def classify_words(tokens, frequency_list, threshold):\n",
        "    classified_words = {\"simple\": [], \"complex\": []}\n",
        "\n",
        "    for word in tokens:\n",
        "        if word in frequency_list:\n",
        "            if frequency_list[word] > threshold:\n",
        "                classified_words[\"simple\"].append(word)\n",
        "            else:\n",
        "                classified_words[\"complex\"].append(word)\n",
        "        else:\n",
        "\n",
        "            classified_words[\"complex\"].append(word)\n",
        "\n",
        "    return classified_words\n",
        "\n",
        "def tokenize_sentence(sentence):\n",
        "    return word_tokenize(sentence, language='english')\n",
        "\n",
        "sentence = \"बाजीप्रभू देशपांडे यांनी पावनखिंडीत मरण स्वीकारून शिवरायांच्या स्वराज्याला वाचवले.\"\n",
        "\n",
        "tokens = tokenize_sentence(sentence)\n",
        "\n",
        "classified = classify_words(tokens, simple_words, frequency_threshold)\n",
        "print(\"Simple Words:\", classified[\"simple\"])\n",
        "print(\"Complex Words:\", classified[\"complex\"])\n"
      ],
      "metadata": {
        "colab": {
          "base_uri": "https://localhost:8080/"
        },
        "id": "5mzzZuQDQiZs",
        "outputId": "fcace2d2-707d-4c80-d377-97cb0372160a"
      },
      "execution_count": null,
      "outputs": [
        {
          "output_type": "stream",
          "name": "stdout",
          "text": [
            "Simple Words: ['यांनी', 'पावनखिंडीत', 'मरण', 'वाचवले']\n",
            "Complex Words: ['बाजीप्रभू', 'देशपांडे', 'स्वीकारून', 'शिवरायांच्या', 'स्वराज्याला', '.']\n"
          ]
        }
      ]
    }
  ]
}